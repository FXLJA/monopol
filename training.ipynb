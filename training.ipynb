{
 "cells": [
  {
   "cell_type": "code",
   "execution_count": 30,
   "metadata": {},
   "outputs": [],
   "source": [
    "# Import tensorflow core\n",
    "\n",
    "import tensorflow as tf\n",
    "\n",
    "# Import Keras Model and Layer\n",
    "\n",
    "from tensorflow.keras.applications import MobileNetV2\n",
    "from tensorflow.keras.models import Model\n",
    "from tensorflow.keras.layers import AveragePooling2D\n",
    "from tensorflow.keras.layers import Dropout\n",
    "from tensorflow.keras.layers import Flatten\n",
    "from tensorflow.keras.layers import Dense\n",
    "from tensorflow.keras.layers import Input\n",
    "from tensorflow.keras.optimizers import Adam\n",
    "\n",
    "# Import Keras Utility\n",
    "\n",
    "from tensorflow.keras.preprocessing.image import ImageDataGenerator\n",
    "from tensorflow.keras.preprocessing.image import img_to_array\n",
    "from tensorflow.keras.preprocessing.image import load_img\n",
    "from tensorflow.keras.utils import to_categorical\n",
    "from tensorflow.keras.callbacks import EarlyStopping\n",
    "\n",
    "# Import library for utility\n",
    "\n",
    "from sklearn.preprocessing import LabelEncoder\n",
    "from sklearn.model_selection import train_test_split\n",
    "import matplotlib.pyplot as plt\n",
    "import matplotlib.gridspec as gridspec\n",
    "import glob\n",
    "import numpy as np\n",
    "import os"
   ]
  },
  {
   "cell_type": "code",
   "execution_count": 11,
   "metadata": {},
   "outputs": [
    {
     "data": {
      "image/png": "[encoded data removed]",
      "text/plain": [
       "<Figure size 864x288 with 12 Axes>"
      ]
     },
     "metadata": {
      "needs_background": "light"
     },
     "output_type": "display_data"
    }
   ],
   "source": [
    "# Visualize Dataset\n",
    "\n",
    "dataset_paths = glob.glob(\"./data/source/**/*.jpg\")\n",
    "\n",
    "ncols = 6\n",
    "nrows = 2\n",
    "figure = plt.figure(figsize=(12, 4))\n",
    "plt.rcParams.update({\"font.size\": 14})\n",
    "grid = gridspec.GridSpec(ncols=ncols, nrows=nrows, figure=figure)\n",
    "\n",
    "np.random.seed(0)\n",
    "rand = np.random.randint(0, len(dataset_paths), size=(ncols * nrows))\n",
    "\n",
    "for i in range(ncols * nrows):\n",
    "    figure.add_subplot(grid[i])\n",
    "    image = load_img(dataset_paths[rand[i]])\n",
    "    label = dataset_paths[rand[i]].split(os.path.sep)[-2]\n",
    "    plt.title('\"{:s}\"'.format(label))\n",
    "    plt.axis(False)\n",
    "    plt.imshow(image)"
   ]
  },
  {
   "cell_type": "code",
   "execution_count": 12,
   "metadata": {},
   "outputs": [
    {
     "name": "stdout",
     "output_type": "stream",
     "text": [
      "[INFO] Found 37623 images with 36 classes\n"
     ]
    }
   ],
   "source": [
    "# Label Encoding\n",
    "\n",
    "X = []\n",
    "labels = []\n",
    "\n",
    "for image_path in dataset_paths:\n",
    "    label = image_path.split(os.path.sep)[-2]\n",
    "    image = load_img(image_path, target_size=(80, 80))\n",
    "    image = img_to_array(image)\n",
    "\n",
    "    X.append(image)\n",
    "    labels.append(label)\n",
    "\n",
    "X = np.array(X,dtype=\"float16\")\n",
    "labels = np.array(labels)\n",
    "\n",
    "print(\"[INFO] Found {:d} images with {:d} classes\".format(len(X), len(set(labels))))\n",
    "\n",
    "# One-hot encoding\n",
    "lb = LabelEncoder()\n",
    "lb.fit(labels)\n",
    "labels = lb.transform(labels)\n",
    "y = to_categorical(labels)\n",
    "\n",
    "np.save('license_character_classes.npy', lb.classes_)"
   ]
  },
  {
   "cell_type": "code",
   "execution_count": 36,
   "metadata": {},
   "outputs": [],
   "source": [
    "(train_x, test_x, train_y, test_y) = train_test_split(X, y, test_size=0.1, stratify=y, random_state=42)"
   ]
  },
  {
   "cell_type": "code",
   "execution_count": 37,
   "metadata": {},
   "outputs": [],
   "source": [
    "def construct_model(output_shape):\n",
    "    base_model = MobileNetV2(\n",
    "        weights=\"imagenet\", include_top=False, input_tensor=Input(shape=(80, 80, 3)))\n",
    "\n",
    "    for layer in base_model.layers:\n",
    "        layer.trainable = True\n",
    "\n",
    "    base_model_output = base_model.output\n",
    "    fc_model = AveragePooling2D(pool_size=(3, 3))(base_model_output)\n",
    "    fc_model = Flatten(name=\"flatten\")(fc_model)\n",
    "    fc_model = Dense(128, activation=\"relu\")(fc_model)\n",
    "    fc_model = Dropout(0.5)(fc_model)\n",
    "    fc_model = Dense(output_shape, activation=\"softmax\")(fc_model)\n",
    "\n",
    "    return Model(inputs=base_model.input, outputs=fc_model)"
   ]
  },
  {
   "cell_type": "code",
   "execution_count": null,
   "metadata": {},
   "outputs": [],
   "source": [
    "\"\"\"\n",
    "Model 01\n",
    "LR = 1e-3, EPOCH = 15, Testing data = 10%\n",
    "\n",
    "Model 02\n",
    "LR = 1e-4, EPOCH = 30, Testing data = 10%\n",
    "\"\"\""
   ]
  },
  {
   "cell_type": "code",
   "execution_count": 38,
   "metadata": {},
   "outputs": [
    {
     "name": "stdout",
     "output_type": "stream",
     "text": [
      "WARNING:tensorflow:`input_shape` is undefined or non-square, or `rows` is not in [96, 128, 160, 192, 224]. Weights for input shape (224, 224) will be loaded as the default.\n"
     ]
    }
   ],
   "source": [
    "# Construct Model\n",
    "LR = 1e-3\n",
    "EPOCHS = 15\n",
    "\n",
    "classes = y.shape[1]\n",
    "\n",
    "model = construct_model(output_shape=classes)\n",
    "\n",
    "optimizer = Adam(learning_rate=LR, decay=LR/EPOCHS)\n",
    "model.compile(loss=\"categorical_crossentropy\",\n",
    "              optimizer=optimizer, metrics=[\"accuracy\"])"
   ]
  },
  {
   "cell_type": "code",
   "execution_count": 39,
   "metadata": {},
   "outputs": [],
   "source": [
    "augmentation = ImageDataGenerator(\n",
    "    rotation_range=15,\n",
    "    width_shift_range=0.1,\n",
    "    height_shift_range=0.1,\n",
    "    shear_range=0.1,\n",
    "    zoom_range=0.15,\n",
    "    horizontal_flip=True,\n",
    "    fill_mode=\"nearest\")"
   ]
  },
  {
   "cell_type": "code",
   "execution_count": 40,
   "metadata": {},
   "outputs": [
    {
     "name": "stdout",
     "output_type": "stream",
     "text": [
      "Epoch 1/15\n",
      "529/529 [==============================] - 229s 421ms/step - loss: 0.9853 - accuracy: 0.7393 - val_loss: 8.7997 - val_accuracy: 0.0904\n",
      "Epoch 2/15\n",
      "529/529 [==============================] - 214s 403ms/step - loss: 0.4448 - accuracy: 0.8841 - val_loss: 3.4813 - val_accuracy: 0.4417\n",
      "Epoch 3/15\n",
      "529/529 [==============================] - 223s 421ms/step - loss: 0.3413 - accuracy: 0.9071 - val_loss: 0.9690 - val_accuracy: 0.8212\n",
      "Epoch 4/15\n",
      "529/529 [==============================] - 242s 457ms/step - loss: 0.3059 - accuracy: 0.9168 - val_loss: 1.0130 - val_accuracy: 0.7853\n",
      "Epoch 5/15\n",
      "529/529 [==============================] - 286s 540ms/step - loss: 0.2710 - accuracy: 0.9244 - val_loss: 0.5700 - val_accuracy: 0.8743\n",
      "Epoch 6/15\n",
      "529/529 [==============================] - 248s 468ms/step - loss: 0.2493 - accuracy: 0.9306 - val_loss: 0.5355 - val_accuracy: 0.8921\n",
      "Epoch 7/15\n",
      "529/529 [==============================] - 178s 337ms/step - loss: 0.2379 - accuracy: 0.9332 - val_loss: 0.5133 - val_accuracy: 0.9006\n",
      "Epoch 8/15\n",
      "529/529 [==============================] - 183s 347ms/step - loss: 0.2362 - accuracy: 0.9338 - val_loss: 0.5814 - val_accuracy: 0.8754\n",
      "Epoch 9/15\n",
      "529/529 [==============================] - 186s 351ms/step - loss: 0.2159 - accuracy: 0.9385 - val_loss: 1.2092 - val_accuracy: 0.8108\n",
      "Epoch 10/15\n",
      "529/529 [==============================] - 192s 363ms/step - loss: 0.2125 - accuracy: 0.9393 - val_loss: 0.2676 - val_accuracy: 0.9386\n",
      "Epoch 11/15\n",
      "529/529 [==============================] - 195s 368ms/step - loss: 0.1851 - accuracy: 0.9458 - val_loss: 0.2384 - val_accuracy: 0.9463\n",
      "Epoch 12/15\n",
      "529/529 [==============================] - 180s 340ms/step - loss: 0.1856 - accuracy: 0.9458 - val_loss: 0.2397 - val_accuracy: 0.9373\n",
      "Epoch 13/15\n",
      "529/529 [==============================] - 164s 310ms/step - loss: 0.1622 - accuracy: 0.9518 - val_loss: 0.5263 - val_accuracy: 0.8940\n",
      "Epoch 14/15\n",
      "529/529 [==============================] - 162s 306ms/step - loss: 0.1699 - accuracy: 0.9498 - val_loss: 0.3174 - val_accuracy: 0.9219\n",
      "Epoch 15/15\n",
      "529/529 [==============================] - 162s 307ms/step - loss: 0.1569 - accuracy: 0.9534 - val_loss: 0.2133 - val_accuracy: 0.9492\n"
     ]
    }
   ],
   "source": [
    "BATCH_SIZE = 64\n",
    "\n",
    "STEP_PER_EPOCH = len(train_x) // BATCH_SIZE\n",
    "VALIDATION_STEPS = len(test_x) // BATCH_SIZE\n",
    "\n",
    "my_checkpointer = [EarlyStopping(monitor='val_loss', patience=5, verbose=0)]\n",
    "\n",
    "model_history = model.fit(augmentation.flow(train_x, train_y, batch_size=BATCH_SIZE),\n",
    "          steps_per_epoch=STEP_PER_EPOCH,\n",
    "          validation_data=(test_x, test_y),\n",
    "          validation_steps=VALIDATION_STEPS,\n",
    "          epochs=EPOCHS, callbacks=my_checkpointer)"
   ]
  },
  {
   "cell_type": "code",
   "execution_count": 41,
   "metadata": {},
   "outputs": [
    {
     "name": "stderr",
     "output_type": "stream",
     "text": [
      "d:\\Github Repo\\monopol\\env\\lib\\site-packages\\keras\\engine\\functional.py:1410: CustomMaskWarning: Custom mask layers require a config and must override get_config. When loading, the custom mask layer must be passed to the custom_objects argument.\n",
      "  layer_config = serialize_layer_fn(layer)\n"
     ]
    }
   ],
   "source": [
    "model.save(\"./src/models/plate_char_classifier_02.h5\")"
   ]
  },
  {
   "cell_type": "code",
   "execution_count": 42,
   "metadata": {},
   "outputs": [
    {
     "data": {
      "text/plain": [
       "<matplotlib.legend.Legend at 0x21edeab6220>"
      ]
     },
     "execution_count": 42,
     "metadata": {},
     "output_type": "execute_result"
    },
    {
     "data": {
      "image/png": "[encoded data removed]",
      "text/plain": [
       "<Figure size 1008x360 with 2 Axes>"
      ]
     },
     "metadata": {
      "needs_background": "light"
     },
     "output_type": "display_data"
    }
   ],
   "source": [
    "figure = plt.figure(figsize=(14,5))\n",
    "grid=gridspec.GridSpec(ncols=2, nrows=1, figure=figure)\n",
    "figure.add_subplot(grid[0])\n",
    "plt.plot(model_history.history['accuracy'], label='training accuracy')\n",
    "plt.plot(model_history.history['val_accuracy'], label='val accuracy')\n",
    "plt.title('Accuracy')\n",
    "plt.xlabel('epochs')\n",
    "plt.ylabel('accuracy')\n",
    "plt.legend()\n",
    "\n",
    "figure.add_subplot(grid[1])\n",
    "plt.plot(model_history.history['loss'], label='training loss')\n",
    "plt.plot(model_history.history['val_loss'], label='val loss')\n",
    "plt.title('Loss')\n",
    "plt.xlabel('epochs')\n",
    "plt.ylabel('loss')\n",
    "plt.legend()"
   ]
  },
  {
   "cell_type": "code",
   "execution_count": 43,
   "metadata": {},
   "outputs": [],
   "source": [
    "# save model architectur as json file\n",
    "model_json = model.to_json()\n",
    "with open(\"./src/models/MobileNetV2_plate_character_recognizer.json\", \"w\") as json_file:\n",
    "  json_file.write(model_json)"
   ]
  }
 ],
 "metadata": {
  "interpreter": {
   "hash": "db10861ed731fdbb874e0c00974d8869667160f2f0866ef4e8639eca77d796c7"
  },
  "kernelspec": {
   "display_name": "Python 3.9.7 64-bit ('env': venv)",
   "language": "python",
   "name": "python3"
  },
  "language_info": {
   "codemirror_mode": {
    "name": "ipython",
    "version": 3
   },
   "file_extension": ".py",
   "mimetype": "text/x-python",
   "name": "python",
   "nbconvert_exporter": "python",
   "pygments_lexer": "ipython3",
   "version": "3.9.7"
  },
  "orig_nbformat": 4
 },
 "nbformat": 4,
 "nbformat_minor": 2
}
