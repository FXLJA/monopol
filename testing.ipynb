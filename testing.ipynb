{
 "cells": [
  {
   "cell_type": "code",
   "execution_count": null,
   "metadata": {},
   "outputs": [],
   "source": [
    "import os\n",
    "from difflib import SequenceMatcher\n",
    "import csv\n",
    "\n",
    "from src.plate_character_detector import PlateCharacterDetector\n",
    "from src.plate_character_recognizer import PlateCharacterRecognizer"
   ]
  },
  {
   "cell_type": "code",
   "execution_count": null,
   "metadata": {},
   "outputs": [],
   "source": [
    "# Instantiate object from Monopol core classes\n",
    "\n",
    "plate_character_detector = PlateCharacterDetector()\n",
    "plate_character_recognizer = PlateCharacterRecognizer()"
   ]
  },
  {
   "cell_type": "code",
   "execution_count": null,
   "metadata": {},
   "outputs": [],
   "source": [
    "# Load plate character recognizer DCNN model, weights, and label classes\n",
    "\n",
    "plate_character_recognizer.load_model()\n",
    "plate_character_recognizer.load_weights()\n",
    "plate_character_recognizer.load_classes_label()"
   ]
  },
  {
   "cell_type": "code",
   "execution_count": null,
   "metadata": {},
   "outputs": [],
   "source": [
    "# TODO: read all dataset\n",
    "\n",
    "PATH = \"./data/testing\"\n",
    "\n",
    "datasets = []\n",
    "\n",
    "for filename in os.listdir(PATH):\n",
    "  image_path = PATH + \"/{}\".format(filename)\n",
    "  plate_number = filename[:-4]\n",
    "  datasets.append((image_path, plate_number))\n",
    "\n",
    "print(datasets)"
   ]
  },
  {
   "cell_type": "code",
   "execution_count": null,
   "metadata": {},
   "outputs": [],
   "source": [
    "def get_extracted_plate_number(image_path):\n",
    "    plate_character_detector.load_image(file_path=image_path)\n",
    "    (character_rois, crop_characters) = plate_character_detector.detect_characters()\n",
    "\n",
    "    characters = \"\"\n",
    "\n",
    "    for character in crop_characters:\n",
    "        predicted_character, confidence_rate = plate_character_recognizer.predict(\n",
    "            character)\n",
    "        characters += predicted_character\n",
    "\n",
    "    return characters"
   ]
  },
  {
   "cell_type": "code",
   "execution_count": null,
   "metadata": {},
   "outputs": [],
   "source": [
    "get_extracted_plate_number(datasets[0][0])"
   ]
  },
  {
   "cell_type": "code",
   "execution_count": null,
   "metadata": {},
   "outputs": [],
   "source": [
    "for image_path, plate_number in datasets:\n",
    "  extracted_plate_number = get_extracted_plate_number(image_path)\n",
    "  similarity_ratio = SequenceMatcher(None, plate_number, extracted_plate_number).ratio()\n",
    "  print(\"Actual Plate Number: {}; Extracted Plate Number: {}; Similarity Ratio: {}\".format(plate_number, extracted_plate_number, similarity_ratio))"
   ]
  },
  {
   "cell_type": "code",
   "execution_count": null,
   "metadata": {},
   "outputs": [],
   "source": [
    "header = ['Actual Plate Number', 'Extracted Plate Number', 'Similarity Ratio']\n",
    "\n",
    "with open('result.csv', 'w', encoding='UTF8', newline='') as f:\n",
    "    writer = csv.writer(f)\n",
    "\n",
    "    # write the header\n",
    "    writer.writerow(header)\n",
    "\n",
    "    # write the data\n",
    "    for image_path, plate_number in datasets:\n",
    "      extracted_plate_number = get_extracted_plate_number(image_path)\n",
    "      similarity_ratio = SequenceMatcher(None, plate_number, extracted_plate_number).ratio()\n",
    "      data = [plate_number, extracted_plate_number, similarity_ratio]\n",
    "      writer.writerow(data)"
   ]
  }
 ],
 "metadata": {
  "interpreter": {
   "hash": "db10861ed731fdbb874e0c00974d8869667160f2f0866ef4e8639eca77d796c7"
  },
  "kernelspec": {
   "display_name": "Python 3.9.7 64-bit ('env': venv)",
   "language": "python",
   "name": "python3"
  },
  "language_info": {
   "codemirror_mode": {
    "name": "ipython",
    "version": 3
   },
   "file_extension": ".py",
   "mimetype": "text/x-python",
   "name": "python",
   "nbconvert_exporter": "python",
   "pygments_lexer": "ipython3",
   "version": "3.9.7"
  },
  "orig_nbformat": 4
 },
 "nbformat": 4,
 "nbformat_minor": 2
}
